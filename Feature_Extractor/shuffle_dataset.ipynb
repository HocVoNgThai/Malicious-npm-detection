{
 "cells": [
  {
   "cell_type": "code",
   "execution_count": 3,
   "id": "15e9d963-6b9d-42c9-bd49-7eaac2e9ac72",
   "metadata": {},
   "outputs": [
    {
     "name": "stdout",
     "output_type": "stream",
     "text": [
      "Đã xáo trộn và lưu file thành công tại: npm_shuffled_1.csv\n"
     ]
    }
   ],
   "source": [
    "import numpy as np\n",
    "import pandas as pd\n",
    "import dask.dataframe as dk\n",
    "import tensorflow as tf\n",
    "input_file = \"npm_features_dataset.csv\"\n",
    "output_file =  \"npm_shuffled_1.csv\"\n",
    "\n",
    "df = pd.read_csv(input_file)\n",
    "shuffled_df = df.sample(frac=1, random_state=42).reset_index(drop=True)\n",
    "shuffled_df.to_csv(output_file, index=False)\n",
    "\n",
    "print(f\"Đã xáo trộn và lưu file thành công tại: {output_file}\")"
   ]
  }
 ],
 "metadata": {
  "kernelspec": {
   "display_name": "Python 3 (ipykernel)",
   "language": "python",
   "name": "python3"
  },
  "language_info": {
   "codemirror_mode": {
    "name": "ipython",
    "version": 3
   },
   "file_extension": ".py",
   "mimetype": "text/x-python",
   "name": "python",
   "nbconvert_exporter": "python",
   "pygments_lexer": "ipython3",
   "version": "3.9.23"
  }
 },
 "nbformat": 4,
 "nbformat_minor": 5
}
